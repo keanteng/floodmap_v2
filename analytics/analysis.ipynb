{
 "cells": [
  {
   "cell_type": "markdown",
   "metadata": {},
   "source": [
    "# Analysing Geocoding Performance"
   ]
  },
  {
   "cell_type": "code",
   "execution_count": 1,
   "metadata": {},
   "outputs": [],
   "source": [
    "import pandas as pd\n",
    "import plotly.express as px"
   ]
  },
  {
   "cell_type": "code",
   "execution_count": 23,
   "metadata": {},
   "outputs": [
    {
     "name": "stdout",
     "output_type": "stream",
     "text": [
      "   Version  Success Rate\n",
      "0        1      0.313074\n",
      "1        2      0.317432\n"
     ]
    }
   ],
   "source": [
    "# success rate\n",
    "# using two different location formats:\n",
    "# 1. Place, Region, State\n",
    "# 2. Place, Region\n",
    "\n",
    "data1 = pd.read_csv('data2/all_states_all_years_geocoded_nan_run2.csv')\n",
    "data2 = pd.read_csv('data2/all_states_all_years_geocoded_nan_v2.csv')\n",
    "\n",
    "x1 = data1[['Latitude']].isna().sum()\n",
    "x2 = data2[['Latitude']].isna().sum()\n",
    "\n",
    "r1 = (len(data1) - x1.Latitude)/len(data1)\n",
    "r2 = (len(data2) - x2.Latitude)/len(data2)\n",
    "\n",
    "a = pd.DataFrame({\n",
    "    'Version':[1,2],\n",
    "    'Success Rate': [r1, r2]\n",
    "    })\n",
    "print(a)\n"
   ]
  }
 ],
 "metadata": {
  "kernelspec": {
   "display_name": "Python 3",
   "language": "python",
   "name": "python3"
  },
  "language_info": {
   "codemirror_mode": {
    "name": "ipython",
    "version": 3
   },
   "file_extension": ".py",
   "mimetype": "text/x-python",
   "name": "python",
   "nbconvert_exporter": "python",
   "pygments_lexer": "ipython3",
   "version": "3.11.4"
  },
  "orig_nbformat": 4
 },
 "nbformat": 4,
 "nbformat_minor": 2
}
